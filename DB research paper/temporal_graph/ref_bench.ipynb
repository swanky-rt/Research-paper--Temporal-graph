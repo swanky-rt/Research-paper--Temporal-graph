{
 "cells": [
  {
   "cell_type": "code",
   "execution_count": null,
   "id": "initial_id",
   "metadata": {
    "collapsed": true
   },
   "outputs": [],
   "source": [
    "# 1) Install (core) or full stack (adds PyTorch Geometric/Frame for GNNs)\n",
    "!pip install relbench          # or: pip install \"relbench[full]\"\n"
   ]
  },
  {
   "metadata": {},
   "cell_type": "markdown",
   "source": "",
   "id": "f140fc42f86da93a"
  },
  {
   "metadata": {},
   "cell_type": "code",
   "outputs": [],
   "execution_count": null,
   "source": [
    "import relbench\n",
    "\n",
    "relbench.__version__\n"
   ],
   "id": "e003fb216018a24f"
  },
  {
   "metadata": {},
   "cell_type": "code",
   "outputs": [],
   "execution_count": null,
   "source": [
    "\n",
    "from relbench.datasets import get_dataset\n",
    "\n",
    "dataset = get_dataset(name=\"rel-f1\", download=True)\n",
    "dataset.val_timestamp, dataset.test_timestamp"
   ],
   "id": "c1e8d4ac2d6b4861"
  },
  {
   "metadata": {},
   "cell_type": "code",
   "outputs": [],
   "execution_count": null,
   "source": [
    "from relbench.datasets import get_dataset_names\n",
    "\n",
    "get_dataset_names()"
   ],
   "id": "3d10d3238dd9de01"
  },
  {
   "metadata": {},
   "cell_type": "code",
   "outputs": [],
   "execution_count": null,
   "source": [
    "from relbench.datasets import get_dataset\n",
    "\n",
    "dataset = get_dataset(name=\"rel-f1\", download=True)"
   ],
   "id": "cc089658da059114"
  },
  {
   "metadata": {},
   "cell_type": "code",
   "outputs": [],
   "execution_count": null,
   "source": [
    "dataset.val_timestamp, dataset.test_timestamp\n",
    "db = dataset.get_db()\n",
    "\n",
    "db.min_timestamp, db.max_timestamp\n",
    "db.table_dict.keys()\n",
    "table = db.table_dict[\"drivers\"]\n",
    "table\n",
    "\n",
    "\n",
    "\n",
    "table.df.iloc[table.df[\"dob\"].idxmax()]\n",
    "\n",
    "\n",
    "table.df.iloc[table.df[\"dob\"].idxmin()]\n",
    "\n",
    "table = db.table_dict[\"results\"]\n",
    "table.df"
   ],
   "id": "dc0aae5e98dd3e99"
  },
  {
   "metadata": {},
   "cell_type": "code",
   "outputs": [],
   "execution_count": null,
   "source": [
    "#Loading tasks:\n",
    "from relbench.tasks import get_task_names, get_task\n",
    "\n",
    "get_task_names(\"rel-f1\")\n",
    "\n",
    "print(get_task_names(\"rel-f1\"))\n"
   ],
   "id": "d1639bcf0b211bc8"
  },
  {
   "metadata": {},
   "cell_type": "code",
   "outputs": [],
   "execution_count": null,
   "source": [
    "\n",
    "task = get_task(\"rel-f1\", \"driver-top3\", download=True)\n",
    "\n",
    "task.get_table(\"train\")\n",
    "\n",
    "task.get_table(\"test\")\n",
    "\n",
    "task.get_table(\"test\", mask_input_cols=False)"
   ],
   "id": "9df87188af53d7a0"
  },
  {
   "metadata": {},
   "cell_type": "code",
   "outputs": [],
   "execution_count": null,
   "source": "",
   "id": "f1032eccc6502418"
  }
 ],
 "metadata": {
  "kernelspec": {
   "display_name": "Python 3",
   "language": "python",
   "name": "python3"
  },
  "language_info": {
   "codemirror_mode": {
    "name": "ipython",
    "version": 2
   },
   "file_extension": ".py",
   "mimetype": "text/x-python",
   "name": "python",
   "nbconvert_exporter": "python",
   "pygments_lexer": "ipython2",
   "version": "2.7.6"
  }
 },
 "nbformat": 4,
 "nbformat_minor": 5
}
